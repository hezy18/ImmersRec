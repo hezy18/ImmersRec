{
 "cells": [
  {
   "cell_type": "code",
   "execution_count": 36,
   "metadata": {},
   "outputs": [],
   "source": [
    "\n",
    "import numpy as np\n",
    "import json\n",
    "import pandas as pd\n",
    "import seaborn as sns\n",
    "import matplotlib.pyplot as plt\n",
    "%matplotlib inline\n",
    "\n",
    "foot_path = \"../draw_model_result/\""
   ]
  },
  {
   "cell_type": "code",
   "execution_count": null,
   "metadata": {},
   "outputs": [],
   "source": [
    "with open(foot_path+'all_test_dict.json', 'r') as f:\n",
    "    all_test_dict = json.load(f)\n",
    "\n",
    "all_user_session_immers={}\n",
    "for user in all_test_dict:\n",
    "    len(all_test_dict[user])\n",
    "    all_user_session_immers[user]={}\n",
    "    for session in all_test_dict[user]:\n",
    "        df = pd.DataFrame(all_test_dict[user][session])\n",
    "        curve = df['immersion'].tolist()\n",
    "        all_user_session_immers[user][session]=curve\n",
    "\n",
    "with open(foot_path+'all_user_session_immers.json','w') as f:\n",
    "        json.dump(all_user_session_immers,f)"
   ]
  },
  {
   "cell_type": "code",
   "execution_count": null,
   "metadata": {},
   "outputs": [],
   "source": [
    "with open(foot_path+'all_user_session_immers.json','r') as f:\n",
    "    all_user_session_immers = json.load(f)"
   ]
  },
  {
   "cell_type": "code",
   "execution_count": null,
   "metadata": {},
   "outputs": [
    {
     "name": "stdout",
     "output_type": "stream",
     "text": [
      "802841 42392\n"
     ]
    }
   ],
   "source": [
    "from scipy.interpolate import interp1d\n",
    "def linear_interpolation(data, n):\n",
    "    x = np.arange(len(data))\n",
    "    f = interp1d(x, data)\n",
    "    x_new = np.linspace(0, len(data)-1, n)\n",
    "    return f(x_new)\n",
    "\n",
    "# def segment_filter(data, window_size, step_size):\n",
    "#     smoothed_data = []\n",
    "#     num_segments = (len(data) - window_size) // step_size + 1\n",
    "\n",
    "#     for i in range(num_segments):\n",
    "#         segment = data[i*step_size : i*step_size + window_size]\n",
    "#         segment_mean = np.mean(segment)\n",
    "#         smoothed_data.extend([segment_mean] * window_size)\n",
    "\n",
    "#     return smoothed_data\n",
    "all_user_session_immers_inter={}\n",
    "N=1000\n",
    "count_all, count_valid = 0, 0\n",
    "for user in all_user_session_immers:\n",
    "    all_user_session_immers_inter[user]=[]\n",
    "    for session in all_user_session_immers[user]:\n",
    "        y_list= all_user_session_immers[user][session]\n",
    "        count_all+=1\n",
    "        if len(y_list)<10:\n",
    "            continue\n",
    "        same_y= linear_interpolation(y_list, N)\n",
    "        all_user_session_immers_inter[user].append(same_y)\n",
    "        \n",
    "        count_valid+=1\n",
    "print(count_all,count_valid)"
   ]
  },
  {
   "cell_type": "code",
   "execution_count": null,
   "metadata": {},
   "outputs": [
    {
     "name": "stdout",
     "output_type": "stream",
     "text": [
      "(42392, 1000)\n",
      "(1000, 1000)\n",
      "(array([], dtype=int64), array([], dtype=int64))\n"
     ]
    }
   ],
   "source": [
    "from sklearn.cluster import KMeans\n",
    "y_all = []\n",
    "for user in all_user_session_immers_inter:\n",
    "    y_all.extend([list(seq) for seq in all_user_session_immers_inter[user]])\n",
    "X = np.array(y_all)\n",
    "print(X.shape)\n",
    "X = X[np.random.choice(X.shape[0], 1000, replace=False),:]\n",
    "print(X.shape)\n",
    "\n",
    "print(np.where(np.isnan(X)))\n"
   ]
  },
  {
   "cell_type": "code",
   "execution_count": null,
   "metadata": {},
   "outputs": [],
   "source": [
    "import numpy as np\n",
    "y_all = []\n",
    "for user in all_user_session_immers_inter:\n",
    "    y_all.extend([list(seq) for seq in all_user_session_immers_inter[user]])\n",
    "X = np.array(y_all)\n",
    "print(X.shape)\n",
    "\n",
    "num_segments = 4\n",
    "segment_width = X.shape[1] // num_segments\n",
    "print(segment_width)\n",
    "segment_means = np.zeros((X.shape[0],num_segments))\n",
    "for i in range(num_segments):\n",
    "    segment_means[:,i] = np.mean(X[:, i*segment_width: i*segment_width+segment_width], axis=1)\n",
    "print(segment_means.shape)\n",
    "print(np.where(np.isnan(segment_means)))\n",
    "\n",
    "segment_mean_diffs = np.zeros((X.shape[0],6))\n",
    "count=0\n",
    "for i in range(num_segments):\n",
    "    for j in range(num_segments):\n",
    "        if i<=j:\n",
    "            continue\n",
    "        segment_mean_diffs[:,count] = segment_means[:,i] - segment_means[:,j]\n",
    "        count+=1\n",
    "print(segment_mean_diffs.shape)\n",
    "\n",
    "result_matrix = np.column_stack((segment_means, segment_mean_diffs))\n",
    "\n",
    "print(result_matrix.shape)\n",
    "print(np.where(np.isnan(result_matrix)))\n",
    "\n",
    "n_clusters = 4\n",
    "kmeans = KMeans(n_clusters=n_clusters, init='k-means++', max_iter=100, n_init=10, \n",
    "                random_state=0)\n",
    "y_pred = kmeans.fit_predict(result_matrix)"
   ]
  },
  {
   "cell_type": "code",
   "execution_count": 68,
   "metadata": {},
   "outputs": [
    {
     "name": "stdout",
     "output_type": "stream",
     "text": [
      "(5899, 1000)\n",
      "5899\n",
      "(5152, 1000)\n",
      "5152\n",
      "(4329, 1000)\n",
      "4329\n",
      "(27012, 1000)\n",
      "27012\n"
     ]
    },
    {
     "data": {
      "image/png": "[encoded data removed]",
      "text/plain": [
       "<Figure size 576x144 with 4 Axes>"
      ]
     },
     "metadata": {
      "needs_background": "light"
     },
     "output_type": "display_data"
    }
   ],
   "source": [
    "# min_val = np.min(X, axis=0)\n",
    "# max_val = np.max(X, axis=0)\n",
    "# X_nor = (X - min_val) / (max_val - min_val)\n",
    "# print(X)\n",
    "\n",
    "plt.figure(figsize=(8,2))\n",
    "avg_list, se_list =[],[]\n",
    "min_all=10\n",
    "max_all=-10\n",
    "colors=[[\"#c72e29\",\"#F9D6D5\"],['#185831','#C8FADC'],['#202765','#D9DCFD'],['#5B1176','#F2D0FF']]\n",
    "cluster_list=[2,3,0,1]\n",
    "for cluster_label in cluster_list:\n",
    "    cluster_indices = np.where(y_pred == cluster_label)[0]\n",
    "    y_array = X[cluster_indices]\n",
    "    print(y_array.shape)\n",
    "    \n",
    "    print(len(cluster_indices))\n",
    "    avg = np.mean(y_array, axis=0)\n",
    "    \n",
    "    se = np.std(y_array, axis=0)\n",
    "    se_list.append(se)\n",
    "    avg_list.append(avg)\n",
    "    min = np.min(avg-se)\n",
    "    max = np.max(avg+se)\n",
    "    if min<min_all:\n",
    "        min_all=min\n",
    "    if max>max_all:\n",
    "        max_all=max\n",
    "\n",
    "for cluster_label in cluster_list:\n",
    "    avg = avg_list[cluster_label]\n",
    "    se = se_list[cluster_label]\n",
    "    down_line = (avg-se - min_all)/(max_all - min_all)\n",
    "    up_line = (avg+se - min_all)/(max_all - min_all)\n",
    "    avg =  (avg - min_all)/(max_all - min_all)\n",
    "    se = se/(max_all-min_all)\n",
    "    # min = np.min(avg-se)\n",
    "    # max= np.max(avg+se)\n",
    "    # avg-\n",
    "    \n",
    "    plt.subplot(1, n_clusters, cluster_label+1)\n",
    "             \n",
    "    x = np.arange(N)\n",
    "    plt.plot(x, avg,color=colors[cluster_label][0])\n",
    "    plt.fill_between(x, avg - se, avg + se,color=colors[cluster_label][1])\n",
    "    # plt.show()\n",
    "    \n",
    "    x_new=[]\n",
    "    for i in range(N):\n",
    "        x_new.append(x[i]/100)\n",
    "    plt.xticks([])\n",
    "    plt.xlabel('$t$',fontsize=15)\n",
    "    plt.ylim(-0.1,1.1)\n",
    "    plt.yticks([0, 0.5, 1],fontsize=15)\n",
    "    if cluster_label !=0:\n",
    "        plt.yticks([])\n",
    "    # if cluster_label==1:\n",
    "    #     print(np.min(avg-se),np.max(avg+se))\n",
    "    \n",
    "\n",
    "    # plt.legend()\n",
    "plt.tight_layout()\n",
    "plt.savefig('immersion_curve.pdf')\n",
    "plt.show()\n"
   ]
  },
  {
   "cell_type": "code",
   "execution_count": null,
   "metadata": {},
   "outputs": [],
   "source": [
    "import numpy as np\n",
    "from scipy.spatial.distance import euclidean\n",
    "from sklearn.cluster import KMeans\n",
    "import matplotlib.pyplot as plt\n",
    "\n",
    "y_all = []\n",
    "for user in all_user_session_immers_inter:\n",
    "    y_all.extend([list(seq) for seq in all_user_session_immers_inter[user]])\n",
    "\n",
    "X = np.array(y_all)\n",
    "print(X.shape)\n",
    "X = X[np.random.choice(X.shape[0], 100, replace=False),:]\n",
    "print(X.shape)\n",
    "\n",
    "def dtw_distance(x, y):\n",
    "    n, m = len(x), len(y)\n",
    "    dp = np.zeros((n+1, m+1))\n",
    "\n",
    "    for i in range(1, n+1):\n",
    "        dp[i, 0] = float('inf')\n",
    "    for j in range(1, m+1):\n",
    "        dp[0, j] = float('inf')\n",
    "\n",
    "    for i in range(1, n+1):\n",
    "        for j in range(1, m+1):\n",
    "            cost = abs(x[i-1] - y[j-1])\n",
    "            dp[i, j] = cost + min(dp[i-1, j], dp[i, j-1], dp[i-1, j-1])\n",
    "\n",
    "    return dp[n, m]\n",
    "\n",
    "n_clusters = 4\n",
    "kmeans = KMeans(n_clusters=n_clusters, init='k-means++', max_iter=300, n_init=10, \n",
    "                random_state=0)\n",
    "\n",
    "distances = np.zeros((len(X), len(X)))\n",
    "for i in range(len(X)):\n",
    "    for j in range(i+1, len(X)):\n",
    "        distances[i, j] = dtw_distance(X[i], X[j])\n",
    "        distances[j, i] = distances[i, j]\n",
    "\n",
    "y_pred = kmeans.fit_predict(distances)\n",
    "\n",
    "for cluster_label in range(n_clusters):\n",
    "    plt.figure()\n",
    "    cluster_indices = np.where(y_pred == cluster_label)[0]\n",
    "    for idx in cluster_indices:\n",
    "        plt.plot(X[idx].ravel(), \"k-\", alpha=0.7)\n",
    "    plt.title(f'Cluster {cluster_label}')\n",
    "    plt.show()"
   ]
  }
 ],
 "metadata": {
  "kernelspec": {
   "display_name": "base",
   "language": "python",
   "name": "python3"
  },
  "language_info": {
   "codemirror_mode": {
    "name": "ipython",
    "version": 3
   },
   "file_extension": ".py",
   "mimetype": "text/x-python",
   "name": "python",
   "nbconvert_exporter": "python",
   "pygments_lexer": "ipython3",
   "version": "3.7.2"
  }
 },
 "nbformat": 4,
 "nbformat_minor": 4
}
