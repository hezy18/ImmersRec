{
 "cells": [
  {
   "cell_type": "code",
   "execution_count": 2,
   "metadata": {},
   "outputs": [],
   "source": [
    "import numpy as np\n",
    "import matplotlib.pyplot as plt\n",
    "%matplotlib inline\n",
    "\n",
    "def draw_bar(result,y,title,legend=True):\n",
    "\n",
    "    param1 = list(result.keys())\n",
    "\n",
    "    values = [result[param] if isinstance(result[param], float) else result[param]['0'] for param in param1]\n",
    "\n",
    "    print(param1,values)\n",
    "    param2 = list(result['0.001'].keys())\n",
    "\n",
    "    fig, ax = plt.subplots(figsize=(6,4.6))\n",
    "    width = 0.2  # the width of the bars\n",
    "    colors = ['#FFA07A', '#66CDAA', '#D8BFD8', '#87CEEB']\n",
    "    rects1 = ax.bar(0, result['0'], width, color=colors[0])\n",
    "\n",
    "\n",
    "    x = np.arange(1,len(param1))\n",
    "    print(x)\n",
    "    pos =[-1.5,-0.5,0.5,1.5]\n",
    "\n",
    "    for i, p2 in enumerate(param2):\n",
    "        values=[]\n",
    "        for p1 in param1:\n",
    "            if p1=='0':\n",
    "                continue\n",
    "            values.append(result[p1][p2])\n",
    "        \n",
    "        ax.bar(x + pos[i] * width, values, width, label='$\\lambda_2$='+p2, color=colors[i])\n",
    "\n",
    "    # Add labels, title, and legend\n",
    "    ax.set_xlabel('$\\lambda_1$',fontsize=15)\n",
    "    ax.set_ylabel('HR@50',fontsize=15)\n",
    "    ax.set_title(title,fontsize=16)\n",
    "    if len(y)>0:\n",
    "        ax.set_ylim(y[0],y[1])\n",
    "    ax.set_xticks(np.arange(len(param1)),param1,fontsize=15)\n",
    "    ax.tick_params(axis='y', labelsize=15)\n",
    "    if legend:\n",
    "        ax.legend(ncol=2,fontsize=15)\n",
    "\n",
    "    plt.show()"
   ]
  },
  {
   "cell_type": "code",
   "execution_count": 33,
   "metadata": {},
   "outputs": [
    {
     "data": {
      "image/png": "[encoded data removed]",
      "text/plain": [
       "<Figure size 432x288 with 1 Axes>"
      ]
     },
     "metadata": {
      "needs_background": "light"
     },
     "output_type": "display_data"
    }
   ],
   "source": [
    "# HR@50\n",
    "result_Kuai_WideDeep={\n",
    "    'baseline': 0.4614,\n",
    "    'pretrain':{\n",
    "    'ImmersRec': 0.4916,\n",
    "    'ImmersRec-IA': 0.4848,\n",
    "    'ImmersRec-IA-IP': 0.4800\n",
    "    },\n",
    "    'non-pretrain':{\n",
    "    'ImmersRec': 0,\n",
    "    'ImmersRec-IA': 0,\n",
    "    'ImmersRec-IA-IP': 0.4639\n",
    "    }\n",
    "}\n",
    "\n",
    "baseline = result_Kuai_WideDeep['baseline']\n",
    "pretrain_data = list(result_Kuai_WideDeep['pretrain'].values())\n",
    "non_pretrain_data = list(result_Kuai_WideDeep['non-pretrain'].values())\n",
    "models = list(result_Kuai_WideDeep['pretrain'].keys())\n",
    "\n",
    "colors =['#FFA07A', '#66CDAA', '#D8BFD8']\n",
    "\n",
    "fig, ax = plt.subplots()\n",
    "bar_width = 0.25\n",
    "\n",
    "ax.axhline(y=baseline, color='r', linestyle='--', label='Baseline')\n",
    "\n",
    "\n",
    "position = [-bar_width, 0, bar_width]\n",
    "\n",
    "for i, color in zip(range(len(models)), colors):\n",
    "    ax.bar(1+position[i], pretrain_data[i], bar_width, label=models[i], color=color)\n",
    "\n",
    "for i, color in zip(range(len(models)), colors):\n",
    "    ax.bar(2+position[i], non_pretrain_data[i], bar_width, color=color)\n",
    "\n",
    "ax.set_ylabel('HR@50')\n",
    "ax.set_title('WideDeep(KuaiRand)')\n",
    "ax.set_xticks([1,2])\n",
    "ax.set_xticklabels(['Pretrain', 'Non-Pretrain'])\n",
    "ax.set_ylim(0.42,0.52)\n",
    "\n",
    "ax.legend()\n",
    "\n",
    "plt.show()"
   ]
  },
  {
   "cell_type": "code",
   "execution_count": null,
   "metadata": {},
   "outputs": [],
   "source": [
    "# HR@50\n",
    "result_Kuai_WideDeep={\n",
    "    'baseline': 0.4614,\n",
    "    'ImmersRec-IA-IP': 0.4800,\n",
    "    'ImmersRec-IA': 0.4848,\n",
    "    'ImmersRec': 0.4916\n",
    "}\n",
    "\n",
    "fig, ax = plt.subplots(figsize=(4.2,4))\n",
    "\n",
    "ax.axhline(y=result_Kuai_WideDeep['baseline'], color='red', linestyle='--', label='baseline')\n",
    "\n",
    "methods = list(result_Kuai_WideDeep.keys())[1:]\n",
    "values = list(result_Kuai_WideDeep.values())[1:]\n",
    "colors = ['#FFA07A', '#66CDAA', '#D8BFD8'] # '#D8BFD8'\n",
    "ax.bar(methods, values, color=colors, width=0.5,alpha=0.7)\n",
    "\n",
    "# for i, v in enumerate(values):\n",
    "#     ax.text(i, v + 0.005, str(round(v, 4)), ha='center', va='bottom', fontsize=16)\n",
    "\n",
    "# ax.set_title('WideDeep')\n",
    "ax.set_ylabel('HR@50',fontsize=14)\n",
    "ax.set_ylim(0.44,0.53)\n",
    "\n",
    "ax.set_xticklabels(['Ours','Ours-IA','Ours-IA-IP'])\n",
    "ax.legend(fontsize=14)\n",
    "ax.tick_params(axis='both', which='major', labelsize=14)\n",
    "# ax.set_title('ImmersRec(WideDeep),KuaiRand', fontsize=16)\n",
    "plt.savefig('Kuai_WideDeep_ablation.pdf')\n",
    "plt.show()"
   ]
  },
  {
   "cell_type": "code",
   "execution_count": 34,
   "metadata": {},
   "outputs": [
    {
     "name": "stdout",
     "output_type": "stream",
     "text": [
      "['0', '0.001', '0.01', '0.1'] [0.4285, 0.4271, 0.3893, 0.4231]\n",
      "[1 2 3]\n"
     ]
    },
    {
     "data": {
      "image/png": "[encoded data removed]",
      "text/plain": [
       "<Figure size 432x331.2 with 1 Axes>"
      ]
     },
     "metadata": {
      "needs_background": "light"
     },
     "output_type": "display_data"
    }
   ],
   "source": [
    "# HR@50\n",
    "result_Kuai_DeepFM={\n",
    "    '0': 0.4285, \n",
    "    '0.001':{'0':0.4271,'0.001':0.4306,'0.01':0.4303,'0.1':0.4307},\n",
    "    '0.01':{'0':0.3893,'0.001':0.4304,'0.01':0.4508,'0.1':0.4224},\n",
    "    '0.1':{'0':0.4231,'0.001':0.4106,'0.01':0.4182,'0.1':0.4206}\n",
    "}\n",
    "draw_bar(result_Kuai_DeepFM,[0.38,0.48],'ImmersRec(DeepFM) on KuaiRand')"
   ]
  },
  {
   "cell_type": "code",
   "execution_count": null,
   "metadata": {},
   "outputs": [],
   "source": [
    "# HR@50\n",
    "result_Kuai_FinalMLP={\n",
    "    'baseline': 0.5066,\n",
    "    'ImmersRec-IA-IP': 0.5077,\n",
    "    'ImmersRec-IA': 0.5114,\n",
    "    'ImmersRec': 0.5144\n",
    "}\n",
    "fig, ax = plt.subplots(figsize=(4.2,4))\n",
    "\n",
    "ax.axhline(y=result_Kuai_FinalMLP['baseline'], color='red', linestyle='--', label='baseline')\n",
    "\n",
    "methods = list(result_Kuai_FinalMLP.keys())[1:]\n",
    "values = list(result_Kuai_FinalMLP.values())[1:]\n",
    "colors = ['#FFA07A', '#66CDAA', '#D8BFD8'] # '#D8BFD8'\n",
    "ax.bar(methods, values, color=colors, width=0.5,alpha=0.7)\n",
    "\n",
    "# for i, v in enumerate(values):\n",
    "#     ax.text(i, v + 0.005, str(round(v, 4)), ha='center', va='bottom', fontsize=16)\n",
    "\n",
    "# ax.set_title('WideDeep')\n",
    "ax.set_ylabel('HR@50',fontsize=14)\n",
    "ax.set_ylim(0.44,0.53)\n",
    "\n",
    "ax.set_xticklabels(['Ours','Ours-IA','Ours-IA-IP'])\n",
    "ax.legend(fontsize=14)\n",
    "ax.tick_params(axis='both', which='major', labelsize=14)\n",
    "plt.savefig('Kuai_FinalMLP_ablation.pdf')\n",
    "plt.show()"
   ]
  },
  {
   "cell_type": "code",
   "execution_count": null,
   "metadata": {},
   "outputs": [],
   "source": [
    "# HR@50\n",
    "result_MV_WideDeep={\n",
    "    'baseline': 0.4417,  # 0.4505\n",
    "    'ImmersRec-IA-IP': 0.4451,\n",
    "    'ImmersRec-IA': 0.4484,\n",
    "    'ImmersRec': 0.4526\n",
    "}\n",
    "\n",
    "fig, ax = plt.subplots(figsize=(4.2,4))\n",
    "\n",
    "ax.axhline(y=result_MV_WideDeep['baseline'], color='red', linestyle='--', label='baseline')\n",
    "\n",
    "methods = list(result_MV_WideDeep.keys())[1:]\n",
    "values = list(result_MV_WideDeep.values())[1:]\n",
    "colors = ['#FFA07A', '#66CDAA', '#D8BFD8'] # '#D8BFD8'\n",
    "ax.bar(methods, values, color=colors, width=0.5,alpha=0.7)\n",
    "\n",
    "# for i, v in enumerate(values):\n",
    "#     ax.text(i, v + 0.005, str(round(v, 4)), ha='center', va='bottom', fontsize=16)\n",
    "\n",
    "# ax.set_title('WideDeep')\n",
    "ax.set_ylabel('HR@50',fontsize=14)\n",
    "ax.set_ylim(0.40,0.48)\n",
    "\n",
    "ax.set_xticklabels(['Ours','Ours-IA','Ours-IA-IP'])\n",
    "ax.legend(fontsize=14)\n",
    "ax.tick_params(axis='both', which='major', labelsize=14)\n",
    "plt.savefig('MicroVideo_WideDeep_ablation.pdf')\n",
    "plt.show()"
   ]
  },
  {
   "cell_type": "code",
   "execution_count": null,
   "metadata": {},
   "outputs": [],
   "source": [
    "# HR@50\n",
    "\n",
    "result_MV_FinalMLP={\n",
    "    'baseline': 0.4517,\n",
    "    'ImmersRec-IA-IP': 0.4341,\n",
    "    'ImmersRec-IA': 0.4581,\n",
    "    'ImmersRec': 0.4631,\n",
    "}\n",
    "fig, ax = plt.subplots(figsize=(4.2,4))\n",
    "\n",
    "ax.axhline(y=result_MV_FinalMLP['baseline'], color='red', linestyle='--', label='baseline')\n",
    "\n",
    "methods = list(result_MV_FinalMLP.keys())[1:]\n",
    "values = list(result_MV_FinalMLP.values())[1:]\n",
    "colors = ['#FFA07A', '#66CDAA', '#D8BFD8'] # '#D8BFD8'\n",
    "ax.bar(methods, values, color=colors, width=0.5,alpha=0.7)\n",
    "\n",
    "# for i, v in enumerate(values):\n",
    "#     ax.text(i, v + 0.005, str(round(v, 4)), ha='center', va='bottom', fontsize=16)\n",
    "\n",
    "# ax.set_title('WideDeep')\n",
    "ax.set_ylabel('HR@50',fontsize=14)\n",
    "ax.set_ylim(0.40,0.48)\n",
    "\n",
    "ax.set_xticklabels(['Ours','Ours-IA','Ours-IA-IP'])\n",
    "ax.legend(fontsize=14)\n",
    "ax.tick_params(axis='both', which='major', labelsize=14)\n",
    "plt.savefig('MicroVideo_FinalMLP_ablation.pdf')\n",
    "plt.show()"
   ]
  }
 ],
 "metadata": {
  "kernelspec": {
   "display_name": "base",
   "language": "python",
   "name": "python3"
  },
  "language_info": {
   "codemirror_mode": {
    "name": "ipython",
    "version": 3
   },
   "file_extension": ".py",
   "mimetype": "text/x-python",
   "name": "python",
   "nbconvert_exporter": "python",
   "pygments_lexer": "ipython3",
   "version": "3.7.2"
  }
 },
 "nbformat": 4,
 "nbformat_minor": 4
}
