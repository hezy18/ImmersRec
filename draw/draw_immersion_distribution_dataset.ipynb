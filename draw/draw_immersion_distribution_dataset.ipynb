{
 "cells": [
  {
   "cell_type": "code",
   "execution_count": 1,
   "metadata": {},
   "outputs": [],
   "source": [
    "\n",
    "import numpy as np\n",
    "import json\n",
    "import seaborn as sns\n",
    "import matplotlib.pyplot as plt\n",
    "%matplotlib inline\n",
    "\n",
    "foot_path = \"../draw_model_result/\""
   ]
  },
  {
   "cell_type": "code",
   "execution_count": 6,
   "metadata": {},
   "outputs": [],
   "source": [
    "with open(foot_path+'rec_immers_dict.json', 'r') as f:\n",
    "    rec_immers_dict = json.load(f)"
   ]
  },
  {
   "cell_type": "code",
   "execution_count": 2,
   "metadata": {},
   "outputs": [
    {
     "name": "stdout",
     "output_type": "stream",
     "text": [
      "1142 0.5002487012676099\n",
      "2366 0.44351309898135427\n",
      "1088 0.5052799767650226\n",
      "2420 0.44251710508973147\n"
     ]
    },
    {
     "data": {
      "image/png": "[encoded data removed]",
      "text/plain": [
       "<Figure size 720x360 with 2 Axes>"
      ]
     },
     "metadata": {
      "needs_background": "light"
     },
     "output_type": "display_data"
    }
   ],
   "source": [
    "with open(foot_path+'source_dict.json', 'r') as f:\n",
    "    lab_data_dict = json.load(f)\n",
    "\n",
    "pred_immers_all=[]\n",
    "true_immers_all=[]\n",
    "pred_immers_viewpos, pred_immers_viewneg = [], []\n",
    "pred_immers_likepos, pred_immers_likeneg = [], []\n",
    "for user in lab_data_dict:\n",
    "    for item in lab_data_dict[user]:\n",
    "        data = lab_data_dict[user][item]\n",
    "        pred_immers = data['predict_immersin']\n",
    "        pred_immers_all.append(pred_immers)\n",
    "        true_immers_all.append(data['rating_immersion'])\n",
    "        if data['rating_like']>0:\n",
    "            pred_immers_likepos.append(pred_immers)\n",
    "        else:\n",
    "            pred_immers_likeneg.append(pred_immers)\n",
    "        if data['view_ratio']>0.95:\n",
    "            pred_immers_viewpos.append(pred_immers)\n",
    "        else:\n",
    "            pred_immers_viewneg.append(pred_immers)\n",
    "        \n",
    "print(len(pred_immers_viewpos),np.mean(pred_immers_viewpos))\n",
    "print(len(pred_immers_viewneg),np.mean(pred_immers_viewneg))\n",
    "print(len(pred_immers_likepos),np.mean(pred_immers_likepos))\n",
    "print(len(pred_immers_likeneg),np.mean(pred_immers_likeneg))\n",
    "\n",
    "\n",
    "plt.figure(figsize=(10, 5))\n",
    "plt.subplot(1, 2, 1)\n",
    "sns.histplot(pred_immers_all, color='blue', kde=False, stat='density')\n",
    "\n",
    "plt.subplot(1, 2, 2)\n",
    "sns.histplot(true_immers_all, color='orange', kde=False, stat='density')\n",
    "plt.title('all')\n",
    "plt.show()"
   ]
  },
  {
   "cell_type": "code",
   "execution_count": 3,
   "metadata": {},
   "outputs": [
    {
     "name": "stdout",
     "output_type": "stream",
     "text": [
      "-0.5347451567649841\n",
      "1.7120873928070068\n"
     ]
    }
   ],
   "source": [
    "original_array = np.array(pred_immers_all)\n",
    "print(min(pred_immers_all))\n",
    "print(max(pred_immers_all))\n",
    "# pred_immers_all_nor = list(np.array(pred_immers_all) - np.min(pred_immers_all)) / (np.max(pred_immers_all) - np.min(pred_immers_all))\n",
    "pred_immers_all_nor = list(np.array(pred_immers_all) - np.min(pred_immers_all)) / (np.max(pred_immers_all) - np.min(pred_immers_all))\n",
    "\n",
    "true_immers_all_nor = list((np.array(true_immers_all) - 1) / (5-1))"
   ]
  },
  {
   "cell_type": "code",
   "execution_count": 26,
   "metadata": {},
   "outputs": [
    {
     "data": {
      "image/png": "[encoded data removed]",
      "text/plain": [
       "<Figure size 720x360 with 2 Axes>"
      ]
     },
     "metadata": {
      "needs_background": "light"
     },
     "output_type": "display_data"
    }
   ],
   "source": [
    "plt.figure(figsize=(10, 5))\n",
    "plt.subplot(1, 2, 1)\n",
    "sns.kdeplot(pred_immers_all_nor, color='orange', fill=True, label='predict immersion')\n",
    "plt.subplot(1, 2, 2)\n",
    "values=[0,0,0,0,0]\n",
    "for immers in true_immers_all:\n",
    "    for i in range(5):\n",
    "        if immers==float(i+1):\n",
    "            values[i]+=1\n",
    "total_sum = sum(values)\n",
    "new_list = [x / total_sum for x in values]\n",
    "plt.bar([0,0.25,0.5,0.75,1], new_list, width=0.18, color='skyblue')\n",
    "    \n",
    "plt.show()"
   ]
  },
  {
   "cell_type": "code",
   "execution_count": 4,
   "metadata": {},
   "outputs": [],
   "source": [
    "with open('../rec_immers_dict.json', 'r') as f:\n",
    "    MV_rec_immers_dict = json.load(f)"
   ]
  },
  {
   "cell_type": "code",
   "execution_count": 7,
   "metadata": {},
   "outputs": [],
   "source": [
    "MV_data = MV_rec_immers_dict['train']['item_pos_immers'] + MV_rec_immers_dict['train']['item_neg_immers'] + MV_rec_immers_dict['devtest']['item_pos_immers'] + MV_rec_immers_dict['devtest']['item_neg_immers']\n",
    "MV_sampled_data = np.random.choice(MV_data, size=10000, replace=False)\n",
    "Kuai_data = rec_immers_dict['train']['item_pos_immers']+rec_immers_dict['train']['item_neg_immers']+rec_immers_dict['devtest']['item_pos_immers']+rec_immers_dict['devtest']['item_neg_immers']\n",
    "Kuai_sampled_data = np.random.choice(Kuai_data, size=10000, replace=False)"
   ]
  },
  {
   "cell_type": "code",
   "execution_count": null,
   "metadata": {},
   "outputs": [],
   "source": [
    "\n",
    "plt.figure(figsize=(10, 5))\n",
    "\n",
    "plt.subplot(1, 2, 1)\n",
    "\n",
    "sns.kdeplot(pred_immers_all_nor, color='orange', fill=True, label='Small Data', shade=True, alpha=0.7)\n",
    "sns.kdeplot(MV_sampled_data, color='LimeGreen', fill=True, label='MicroVideo', shade=True, alpha=0.5)\n",
    "sns.kdeplot(Kuai_sampled_data,  color='MediumPurple', fill=True, label='KuaiRand', shade=True, alpha=0.4)\n",
    "plt.legend(fontsize=18,loc='upper left')\n",
    "plt.xticks(fontsize=18)\n",
    "plt.yticks(fontsize=18)\n",
    "plt.xlabel('Predicted Immersion Score', fontsize=18)\n",
    "plt.ylabel('Density', fontsize=18)\n",
    "\n",
    "plt.subplot(1, 2, 2)\n",
    "values=[0,0,0,0,0]\n",
    "for immers in true_immers_all:\n",
    "    for i in range(5):\n",
    "        if immers==float(i+1):\n",
    "            values[i]+=1\n",
    "total_sum = sum(values)\n",
    "new_list = [x / total_sum for x in values]\n",
    "plt.bar([0,0.25,0.5,0.75,1], new_list, width=0.18, color='skyblue')\n",
    "plt.xlabel('Immersion Label', fontsize=18)\n",
    "plt.ylabel('Proportion', fontsize=18)\n",
    "plt.xticks(fontsize=18)\n",
    "plt.yticks(fontsize=18)\n",
    "\n",
    "plt.tight_layout()\n",
    "\n",
    "plt.savefig('/work/hzy/douyin/work_202306/big_data_analysis/draw_model_result/immersion_distribution1.pdf')\n",
    "plt.show()"
   ]
  },
  {
   "cell_type": "code",
   "execution_count": null,
   "metadata": {},
   "outputs": [],
   "source": [
    "\n",
    "plt.figure(figsize=(5.5, 4))\n",
    "\n",
    "sns.kdeplot(pred_immers_all_nor, color='orange', fill=True, label='Small Data', shade=True, alpha=0.7)\n",
    "sns.kdeplot(MV_sampled_data, color='LimeGreen', fill=True, label='MicroVideo', shade=True, alpha=0.5)\n",
    "sns.kdeplot(Kuai_sampled_data,  color='MediumPurple', fill=True, label='KuaiRand', shade=True, alpha=0.4)\n",
    "plt.legend(fontsize=17,loc='upper left')\n",
    "plt.xticks(fontsize=17)\n",
    "plt.yticks(fontsize=17)\n",
    "plt.xlabel('Predicted Immersion Score', fontsize=17)\n",
    "plt.ylabel('Density', fontsize=17)\n",
    "plt.ylim(0,6.5)\n",
    "\n",
    "plt.savefig('../immersion_distribution.pdf')\n",
    "plt.show()"
   ]
  },
  {
   "cell_type": "code",
   "execution_count": null,
   "metadata": {},
   "outputs": [],
   "source": [
    "\n",
    "plt.figure(figsize=(5.5, 4))\n",
    "\n",
    "sns.kdeplot(pred_immers_all_nor, color='orange', fill=True, label='Small Data', shade=True, alpha=0.7)\n",
    "sns.kdeplot(MV_sampled_data, color='LimeGreen', fill=True, label='MicroVideo', shade=True, alpha=0.5)\n",
    "sns.kdeplot(Kuai_sampled_data,  color='MediumPurple', fill=True, label='KuaiRand', shade=True, alpha=0.4)\n",
    "plt.legend(fontsize=17,loc='upper left')\n",
    "plt.xticks(fontsize=17)\n",
    "plt.yticks(fontsize=17)\n",
    "plt.xlabel('Predicted Immersion Score', fontsize=17)\n",
    "plt.ylabel('Density', fontsize=17)\n",
    "plt.ylim(0,6.5)\n",
    "plt.xlim(0,1)\n",
    "\n",
    "plt.savefig('../immersion_distribution.pdf')\n",
    "plt.show()"
   ]
  }
 ],
 "metadata": {
  "kernelspec": {
   "display_name": "base",
   "language": "python",
   "name": "python3"
  },
  "language_info": {
   "codemirror_mode": {
    "name": "ipython",
    "version": 3
   },
   "file_extension": ".py",
   "mimetype": "text/x-python",
   "name": "python",
   "nbconvert_exporter": "python",
   "pygments_lexer": "ipython3",
   "version": "3.7.2"
  }
 },
 "nbformat": 4,
 "nbformat_minor": 4
}
