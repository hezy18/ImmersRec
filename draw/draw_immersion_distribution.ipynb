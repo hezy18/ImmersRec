{
 "cells": [
  {
   "cell_type": "code",
   "execution_count": 1,
   "metadata": {},
   "outputs": [],
   "source": [
    "\n",
    "import numpy as np\n",
    "import json\n",
    "import seaborn as sns\n",
    "import matplotlib.pyplot as plt\n",
    "%matplotlib inline\n",
    "\n",
    "foot_path = \"../draw_model_result/\""
   ]
  },
  {
   "cell_type": "markdown",
   "metadata": {},
   "source": [
    "##### all user, train & devtest"
   ]
  },
  {
   "cell_type": "code",
   "execution_count": 2,
   "metadata": {},
   "outputs": [],
   "source": [
    "with open(foot_path+'rec_devtest_immers_dict_nor.json', 'r') as f:\n",
    "    rec_devtest_immers_dict_nor = json.load(f)\n",
    "\n",
    "\n",
    "# print(np.mean(rec_devtest_immers_dict_nor['item_pos_immers']))\n",
    "# print(np.mean(rec_devtest_immers_dict_nor['item_neg_immers']))\n",
    "\n"
   ]
  },
  {
   "cell_type": "code",
   "execution_count": 6,
   "metadata": {},
   "outputs": [
    {
     "data": {
      "image/png": "[encoded data removed]",
      "text/plain": [
       "<Figure size 288x288 with 1 Axes>"
      ]
     },
     "metadata": {
      "needs_background": "light"
     },
     "output_type": "display_data"
    }
   ],
   "source": [
    "# plt.figure(figsize=(10, 5))\n",
    "\n",
    "plt.figure(figsize=(4, 4))\n",
    "sns.histplot(rec_devtest_immers_dict_nor['item_neg_immers'], bins=np.arange(0,1,0.01), color='DodgerBlue', kde=False, stat='density', alpha=0.7)\n",
    "\n",
    "sns.histplot(rec_devtest_immers_dict_nor['item_pos_immers'], bins=np.arange(0,1,0.01), color='orange', kde=False, stat='density', alpha=0.4)\n",
    "plt.ylim(0,14)\n",
    "plt.show()"
   ]
  },
  {
   "cell_type": "code",
   "execution_count": null,
   "metadata": {},
   "outputs": [],
   "source": [
    "plt.figure(figsize=(4, 4))\n",
    "\n",
    "\n",
    "sns.kdeplot(rec_devtest_immers_dict_nor['item_neg_immers'], color='DodgerBlue',fill=True, label='neg items',shade=True, alpha=0.7)\n",
    "sns.kdeplot(rec_devtest_immers_dict_nor['item_pos_immers'], color='orange', fill=True, label='pos items',shade=True, alpha=0.4)\n",
    "\n",
    "plt.ylim(0,14.5)\n",
    "\n",
    "plt.legend(fontsize=17,loc='upper right')\n",
    "plt.xticks(fontsize=17)\n",
    "plt.yticks(fontsize=17)\n",
    "plt.xlabel('Predicted Immersion Score', fontsize=17)\n",
    "plt.ylabel('Density', fontsize=17)\n",
    "plt.xlim(0,1)\n",
    "\n",
    "plt.savefig('../pos_neg_immersion.pdf')\n",
    "\n",
    "plt.show()"
   ]
  }
 ],
 "metadata": {
  "kernelspec": {
   "display_name": "base",
   "language": "python",
   "name": "python3"
  },
  "language_info": {
   "codemirror_mode": {
    "name": "ipython",
    "version": 3
   },
   "file_extension": ".py",
   "mimetype": "text/x-python",
   "name": "python",
   "nbconvert_exporter": "python",
   "pygments_lexer": "ipython3",
   "version": "3.7.2"
  }
 },
 "nbformat": 4,
 "nbformat_minor": 4
}
